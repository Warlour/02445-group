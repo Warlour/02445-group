{
 "cells": [
  {
   "cell_type": "code",
   "execution_count": 7,
   "metadata": {},
   "outputs": [
    {
     "data": {
      "text/html": [
       "<div>\n",
       "<style scoped>\n",
       "    .dataframe tbody tr th:only-of-type {\n",
       "        vertical-align: middle;\n",
       "    }\n",
       "\n",
       "    .dataframe tbody tr th {\n",
       "        vertical-align: top;\n",
       "    }\n",
       "\n",
       "    .dataframe thead th {\n",
       "        text-align: right;\n",
       "    }\n",
       "</style>\n",
       "<table border=\"1\" class=\"dataframe\">\n",
       "  <thead>\n",
       "    <tr style=\"text-align: right;\">\n",
       "      <th></th>\n",
       "      <th>day</th>\n",
       "      <th>machine</th>\n",
       "      <th>log_permeability</th>\n",
       "    </tr>\n",
       "  </thead>\n",
       "  <tbody>\n",
       "    <tr>\n",
       "      <th>0</th>\n",
       "      <td>1</td>\n",
       "      <td>1</td>\n",
       "      <td>1.459</td>\n",
       "    </tr>\n",
       "    <tr>\n",
       "      <th>1</th>\n",
       "      <td>1</td>\n",
       "      <td>1</td>\n",
       "      <td>1.410</td>\n",
       "    </tr>\n",
       "    <tr>\n",
       "      <th>2</th>\n",
       "      <td>1</td>\n",
       "      <td>1</td>\n",
       "      <td>1.723</td>\n",
       "    </tr>\n",
       "    <tr>\n",
       "      <th>3</th>\n",
       "      <td>1</td>\n",
       "      <td>2</td>\n",
       "      <td>1.431</td>\n",
       "    </tr>\n",
       "    <tr>\n",
       "      <th>4</th>\n",
       "      <td>1</td>\n",
       "      <td>2</td>\n",
       "      <td>1.572</td>\n",
       "    </tr>\n",
       "  </tbody>\n",
       "</table>\n",
       "</div>"
      ],
      "text/plain": [
       "   day  machine  log_permeability\n",
       "0    1        1             1.459\n",
       "1    1        1             1.410\n",
       "2    1        1             1.723\n",
       "3    1        2             1.431\n",
       "4    1        2             1.572"
      ]
     },
     "execution_count": 7,
     "metadata": {},
     "output_type": "execute_result"
    }
   ],
   "source": [
    "import pandas as pd\n",
    "import numpy as np\n",
    "import matplotlib.pyplot as plt\n",
    "from sklearn.linear_model import LinearRegression\n",
    "from sklearn.metrics import mean_squared_error\n",
    "from math import sqrt\n",
    "from statsmodels.formula.api import ols\n",
    "from scipy.stats import binom, t, sem\n",
    "from sklearn.utils import resample\n",
    "from sklearn.model_selection import train_test_split\n",
    "import seaborn as sns\n",
    "import pandas as pd\n",
    "import numpy as np\n",
    "import matplotlib.pyplot as plt\n",
    "from sklearn.linear_model import LinearRegression\n",
    "from sklearn.metrics import mean_squared_error\n",
    "from math import sqrt\n",
    "from statsmodels.formula.api import ols\n",
    "from scipy.stats import binom, t, sem\n",
    "from sklearn.utils import resample\n",
    "from sklearn.model_selection import train_test_split\n",
    "import pandas as pd\n",
    "import numpy as np\n",
    "import statsmodels.api as sm\n",
    "from sklearn.model_selection import LeaveOneOut\n",
    "\n",
    "data = pd.read_csv(\"sheets.txt\", sep = \"\\s+\")\n",
    "data.head()"
   ]
  },
  {
   "cell_type": "code",
   "execution_count": 6,
   "metadata": {},
   "outputs": [
    {
     "name": "stdout",
     "output_type": "stream",
     "text": [
      "               sum_sq    df         F    PR(>F)\n",
      "day          0.207578   8.0  1.986502  0.065756\n",
      "machine      0.000579   2.0  0.022171  0.978082\n",
      "day:machine  0.243994  16.0  1.167500  0.322771\n",
      "Residual     0.705335  54.0       NaN       NaN\n"
     ]
    }
   ],
   "source": [
    "# Load data\n",
    "sheet_data = pd.read_csv(\"sheets.txt\", sep=\"\\t\")\n",
    "\n",
    "# Convert day & machine to factors:\n",
    "sheet_data['day'] = sheet_data['day'].astype('category')\n",
    "sheet_data['machine'] = sheet_data['machine'].astype('category')\n",
    "\n",
    "# Test for interactions\n",
    "formula = 'log_permeability ~ day * machine'\n",
    "L = sm.OLS.from_formula(formula, data=sheet_data).fit()\n",
    "\n",
    "# Display interaction significance\n",
    "print(sm.stats.anova_lm(L, typ=2))\n"
   ]
  },
  {
   "cell_type": "markdown",
   "metadata": {},
   "source": [
    "Da p-værdien er over 0.05 for alle 3 variabler kan vi konkludere at de ikke har nogle effekt på log-permabilitet"
   ]
  },
  {
   "cell_type": "markdown",
   "metadata": {},
   "source": [
    "### Exercise 2-5"
   ]
  },
  {
   "cell_type": "code",
   "execution_count": 19,
   "metadata": {},
   "outputs": [
    {
     "name": "stdout",
     "output_type": "stream",
     "text": [
      "MSE1: 0.015692990204081627\n",
      "MSE1: 0.014842315972222223\n",
      "MSE1: 0.015402605522682446\n",
      "MSE1: 0.014649432187500002\n"
     ]
    }
   ],
   "source": [
    "# Predict on new sheet (from same machines on same days)\n",
    "# Loop through all data (leave-one-out CV)\n",
    "def MSE(formula):\n",
    "    loo = LeaveOneOut()\n",
    "    pred_errors = np.zeros(len(sheet_data))\n",
    "    for train_index, test_index in loo.split(sheet_data):\n",
    "        train_data = sheet_data.iloc[train_index]\n",
    "        test_data = sheet_data.iloc[test_index]\n",
    "    \n",
    "    # Use the additive model\n",
    "        L = sm.OLS.from_formula(formula, data=train_data).fit()\n",
    "        prediction = L.predict(test_data)\n",
    "        pred_errors[test_index] = test_data['log_permeability'].values - prediction\n",
    "    mse1 = np.mean(pred_errors**2)\n",
    "    return f\"MSE1: {mse1}\"\n",
    "print(MSE(\"log_permeability ~ machine + day\"))\n",
    "print(MSE(\"log_permeability ~ day\"))\n",
    "print(MSE(\"log_permeability ~ machine\"))\n",
    "print(MSE(\"log_permeability ~ 1\"))"
   ]
  },
  {
   "cell_type": "markdown",
   "metadata": {},
   "source": [
    "vi ville anbefale at bruge modellen med kun dagen til at forudsige log_permabilitet"
   ]
  }
 ],
 "metadata": {
  "kernelspec": {
   "display_name": "base",
   "language": "python",
   "name": "python3"
  },
  "language_info": {
   "codemirror_mode": {
    "name": "ipython",
    "version": 3
   },
   "file_extension": ".py",
   "mimetype": "text/x-python",
   "name": "python",
   "nbconvert_exporter": "python",
   "pygments_lexer": "ipython3",
   "version": "3.11.8"
  }
 },
 "nbformat": 4,
 "nbformat_minor": 2
}
