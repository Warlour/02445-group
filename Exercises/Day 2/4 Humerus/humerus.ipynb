{
 "cells": [
  {
   "cell_type": "code",
   "execution_count": 22,
   "metadata": {},
   "outputs": [
    {
     "data": {
      "text/html": [
       "<div>\n",
       "<style scoped>\n",
       "    .dataframe tbody tr th:only-of-type {\n",
       "        vertical-align: middle;\n",
       "    }\n",
       "\n",
       "    .dataframe tbody tr th {\n",
       "        vertical-align: top;\n",
       "    }\n",
       "\n",
       "    .dataframe thead th {\n",
       "        text-align: right;\n",
       "    }\n",
       "</style>\n",
       "<table border=\"1\" class=\"dataframe\">\n",
       "  <thead>\n",
       "    <tr style=\"text-align: right;\">\n",
       "      <th></th>\n",
       "      <th>humerus</th>\n",
       "      <th>code</th>\n",
       "    </tr>\n",
       "  </thead>\n",
       "  <tbody>\n",
       "    <tr>\n",
       "      <th>0</th>\n",
       "      <td>659</td>\n",
       "      <td>1</td>\n",
       "    </tr>\n",
       "    <tr>\n",
       "      <th>1</th>\n",
       "      <td>689</td>\n",
       "      <td>1</td>\n",
       "    </tr>\n",
       "    <tr>\n",
       "      <th>2</th>\n",
       "      <td>703</td>\n",
       "      <td>1</td>\n",
       "    </tr>\n",
       "    <tr>\n",
       "      <th>3</th>\n",
       "      <td>702</td>\n",
       "      <td>1</td>\n",
       "    </tr>\n",
       "    <tr>\n",
       "      <th>4</th>\n",
       "      <td>709</td>\n",
       "      <td>1</td>\n",
       "    </tr>\n",
       "  </tbody>\n",
       "</table>\n",
       "</div>"
      ],
      "text/plain": [
       "   humerus  code\n",
       "0      659     1\n",
       "1      689     1\n",
       "2      703     1\n",
       "3      702     1\n",
       "4      709     1"
      ]
     },
     "execution_count": 22,
     "metadata": {},
     "output_type": "execute_result"
    }
   ],
   "source": [
    "import pandas as pd\n",
    "import numpy as np\n",
    "import seaborn as sns\n",
    "import matplotlib.pyplot as plt\n",
    "from sklearn.linear_model import LinearRegression\n",
    "from sklearn.metrics import mean_squared_error\n",
    "from statsmodels.formula.api import ols\n",
    "from scipy.stats import binom, t, sem,ttest_ind,ttest_1samp\n",
    "from sklearn.utils import resample\n",
    "from sklearn.model_selection import train_test_split\n",
    "import statsmodels.api as sm\n",
    "from sklearn.model_selection import LeaveOneOut\n",
    "import scipy.stats as st\n",
    "data = pd.read_csv(\"Humerus.txt\", sep = \"\\s+\")\n",
    "data.head()"
   ]
  },
  {
   "cell_type": "markdown",
   "metadata": {},
   "source": [
    "### Exercise 1"
   ]
  },
  {
   "cell_type": "code",
   "execution_count": 15,
   "metadata": {},
   "outputs": [
    {
     "data": {
      "text/plain": [
       "(array([715.49903846, 733.77211538]),\n",
       " array([734.48484848, 746.48712121]),\n",
       " array([-26.35518648,  -4.65748834]))"
      ]
     },
     "execution_count": 15,
     "metadata": {},
     "output_type": "execute_result"
    }
   ],
   "source": [
    "group1 = data.iloc[:26, 0]\n",
    "group2 = data.iloc[26:, 0]\n",
    "\n",
    "k = 1000\n",
    "sim1_samples = np.random.choice(group1,(k,len(group1)),replace=True)\n",
    "sim2_samples = np.random.choice(group2,(k,len(group2)),replace=True)\n",
    "\n",
    "sim_mean_dead = np.mean(sim1_samples,axis=1)\n",
    "sim_mean_alive = np.mean(sim2_samples,axis=1)\n",
    "sim_mean_diff = sim_mean_dead-sim_mean_alive\n",
    "\n",
    "conf_dead = np.quantile(sim_mean_dead,[0.025,0.975])\n",
    "conf_alive = np.quantile(sim_mean_alive,[0.025,0.975])\n",
    "conf_diff = np.quantile(sim_mean_diff,[0.025,0.975])\n",
    "conf_dead,conf_alive,conf_diff"
   ]
  },
  {
   "cell_type": "markdown",
   "metadata": {},
   "source": [
    "### Exercise 2"
   ]
  },
  {
   "cell_type": "code",
   "execution_count": 43,
   "metadata": {},
   "outputs": [
    {
     "data": {
      "text/plain": [
       "((716.0082020626093, 734.7610287066215),\n",
       " (734.7796555144929, 746.4324656976283))"
      ]
     },
     "execution_count": 43,
     "metadata": {},
     "output_type": "execute_result"
    }
   ],
   "source": [
    "conf_norm_1 = st.norm.interval (loc=np.mean(group1), scale=st.sem(group1),confidence=0.95) \n",
    "conf_norm_2 = st.norm.interval (loc=np.mean(group2), scale=st.sem(group2),confidence=0.95) \n",
    "diff = group1-group2\n",
    "conf_norm_diff = st.norm.interval (loc=np.mean(abs(group1-group2)), scale=st.sem(abs(group1-group2)),confidence=0.95) \n",
    "conf_norm_1,conf_norm_2"
   ]
  }
 ],
 "metadata": {
  "kernelspec": {
   "display_name": "base",
   "language": "python",
   "name": "python3"
  },
  "language_info": {
   "codemirror_mode": {
    "name": "ipython",
    "version": 3
   },
   "file_extension": ".py",
   "mimetype": "text/x-python",
   "name": "python",
   "nbconvert_exporter": "python",
   "pygments_lexer": "ipython3",
   "version": "3.11.8"
  }
 },
 "nbformat": 4,
 "nbformat_minor": 2
}
